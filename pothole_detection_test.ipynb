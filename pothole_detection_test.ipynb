{
 "cells": [
  {
   "cell_type": "code",
   "execution_count": 1,
   "metadata": {
    "id": "Ir2oIFvQFYOq",
    "partialCollapse": true
   },
   "outputs": [
    {
     "name": "stderr",
     "output_type": "stream",
     "text": [
      "Using TensorFlow backend.\n"
     ]
    }
   ],
   "source": [
    "# IMPORTS\n",
    "import numpy as np\n",
    "import cv2\n",
    "import os\n",
    "import random\n",
    "import matplotlib.pyplot as plt\n",
    "import datetime\n",
    "from tensorflow.keras.models import Sequential, load_model\n",
    "from tensorflow.keras import layers, regularizers\n",
    "from tensorflow.keras.layers import Conv2D, MaxPooling2D, Flatten, Dense, Dropout, BatchNormalization\n",
    "import tensorflow as tf\n",
    "from keras.preprocessing.image import ImageDataGenerator\n",
    "from scipy import misc, ndimage\n",
    "from PIL import Image\n",
    "from keras.optimizers import Adam, RMSprop\n",
    "import time\n",
    "from time import sleep\n",
    "from IPython.display import clear_output\n",
    "from keras.backend import sigmoid\n",
    "def swish(x, beta = 1):\n",
    "    return (x * sigmoid(beta * x))\n",
    "from keras.utils.generic_utils import get_custom_objects\n",
    "from tensorflow.keras.layers import Activation\n",
    "get_custom_objects().update({'swish': Activation(swish)})\n",
    "from keras.regularizers import l2, l1, l1_l2\n",
    "from keras.backend import manual_variable_initialization \n",
    "manual_variable_initialization(True)\n",
    "from sklearn.metrics import classification_report, confusion_matrix\n",
    "import glob\n",
    "import shutil"
   ]
  },
  {
   "cell_type": "code",
   "execution_count": 2,
   "metadata": {
    "partialCollapse": true
   },
   "outputs": [],
   "source": [
    "# FUNCTIONS\n",
    "def check_accuracy(mdl, X_new, y_new):\n",
    "    true = 0\n",
    "    Y_pred = mdl.predict(X_new)\n",
    "    y_pred = np.argmax(Y_pred, axis=1)\n",
    "    for j in range(len(y_new)):\n",
    "        if y_pred[j] == y_new[j]:\n",
    "            true += 1\n",
    "    acc = (true/len(y_new))*100\n",
    "    return acc\n",
    "\n",
    "def check_highest(folder_path1):\n",
    "    max_acc = []\n",
    "    max_i = []\n",
    "    for i in os.listdir(folder_path1):\n",
    "        model = load_model(folder_path1 + i, custom_objects = {\"Activation\": Activation})\n",
    "        acc = check_accuracy(model, X_new, y_new)\n",
    "        max_acc.append(acc)\n",
    "        max_i.append(i)\n",
    "        print('Model Name:', i)\n",
    "        print('Model Accuracy =', str(acc) + '%')\n",
    "        print('------------------------------------------------------------------------')\n",
    "    max_acc = np.array(max_acc)\n",
    "    max_i = np.array(max_i)\n",
    "    maxx = np.amax(max_acc)\n",
    "    index = np.where(max_acc == maxx)\n",
    "    print()\n",
    "    print('The highest Accuracy:', max_i[index], 'with', str(maxx) + '%')\n",
    "    print()\n",
    "    for i in max_i[index]:\n",
    "        model = load_model(folder_path1 + i, custom_objects = {\"Activation\": Activation})\n",
    "        Y_pred = model.predict(X_new)\n",
    "        y_pred = np.argmax(Y_pred, axis=1)\n",
    "        print('------------------------------------------------------------------------')\n",
    "        print('Model:', i)\n",
    "        print()\n",
    "        print('Confusion Matrix:')\n",
    "        print()\n",
    "        print(confusion_matrix(y_new, y_pred))\n",
    "        print()\n",
    "        print('Classification Report:')\n",
    "        print()\n",
    "        target_names = ['pothole', 'no_pothole']\n",
    "        print(classification_report(y_new, y_pred, target_names=target_names))\n",
    "        print('------------------------------------------------------------------------')\n",
    "\n",
    "def check_highest_custom(folder_path1):\n",
    "    for i in os.listdir(folder_path1):\n",
    "        model = load_model(folder_path1 + i, custom_objects = {\"Activation\": Activation})\n",
    "        acc = check_accuracy(model, val_iterator)\n",
    "        print('Model Name:', i)\n",
    "        print('Model Accuracy =', str(acc) + '%')\n",
    "        print('------------------------------------------------------------------------')\n",
    "        if acc > 95:\n",
    "            os.remove(folder_path1 + i)\n",
    "            new_name = i.replace(\".h5\",\"\") + '_' + str(round(acc, 2)) + '.h5'\n",
    "            model.save('good_models/' + new_name)\n",
    "        else:\n",
    "            os.remove(folder_path1 + i)"
   ]
  },
  {
   "cell_type": "code",
   "execution_count": 10,
   "metadata": {
    "id": "7wYO0G3QFjsk",
    "partialCollapse": true
   },
   "outputs": [
    {
     "name": "stdout",
     "output_type": "stream",
     "text": [
      "no_pothole 614 1\n"
     ]
    }
   ],
   "source": [
    "# get data\n",
    "root_path = ''\n",
    "dataset = 'dataset'\n",
    "categories = ['pothole', 'no_pothole']\n",
    "image_size = 120\n",
    "\n",
    "folder_path = 'validation'\n",
    "data_new = []\n",
    "\n",
    "cnt = 0\n",
    "for category in categories:\n",
    "    folder_new = os.path.join(dataset, folder_path, category)\n",
    "    label_new = categories.index(category)\n",
    "    for img_new in os.listdir(folder_new):\n",
    "        img_path_new = os.path.join(folder_new, img_new)\n",
    "        cnt+=1\n",
    "        print(category, cnt, label_new)\n",
    "        clear_output(wait = True)\n",
    "        img_array_new = cv2.imread(img_path_new)\n",
    "        img_array_new = cv2.resize(img_array_new, (image_size, image_size))\n",
    "        data_new.append([img_array_new, label_new])\n",
    "\n",
    "np.random.shuffle(data_new)\n",
    "X_old = []\n",
    "y_old = []\n",
    "\n",
    "for features_new, labels_new in data_new:\n",
    "    X_old.append(features_new)\n",
    "    y_old.append(labels_new)\n",
    "\n",
    "X_new = np.array(X_old)\n",
    "y_new = np.array(y_old)\n",
    "X_new = X_new/225"
   ]
  },
  {
   "cell_type": "code",
   "execution_count": 3,
   "metadata": {
    "partialCollapse": true
   },
   "outputs": [],
   "source": [
    "# LOAD DATA\n",
    "# x = np.load('dataset/x_conc.npy')\n",
    "# y = np.load('dataset/y_conc.npy')\n",
    "X_new = np.load('dataset/X_val.npy')\n",
    "y_new = np.load('dataset/y_val.npy')\n",
    "X_new = X_new / 255"
   ]
  },
  {
   "cell_type": "markdown",
   "metadata": {},
   "source": [
    "# **Evaluate**"
   ]
  },
  {
   "cell_type": "code",
   "execution_count": 4,
   "metadata": {},
   "outputs": [
    {
     "name": "stdout",
     "output_type": "stream",
     "text": [
      "Model Name: 256.24888_415.09827_model_03_06-12-2020--11.26.48_97.23_97.23.h5\n",
      "Model Accuracy = 97.23127035830619%\n",
      "------------------------------------------------------------------------\n",
      "Model Name: 1020.42619_model_03_29-11-2020--16.00.15_96.91.h5\n",
      "Model Accuracy = 96.90553745928338%\n",
      "------------------------------------------------------------------------\n",
      "Model Name: 54.06471_862.96867_model_08_06-12-2020--11.40.39_97.23_97.23.h5\n",
      "Model Accuracy = 97.23127035830619%\n",
      "------------------------------------------------------------------------\n",
      "Model Name: 128.08103_06-12-2020--12.01.34_97.23.h5\n",
      "Model Accuracy = 97.23127035830619%\n",
      "------------------------------------------------------------------------\n",
      "Model Name: 355.9289_model_05_29-11-2020--15.51.08_97.39.h5\n",
      "Model Accuracy = 97.39413680781759%\n",
      "------------------------------------------------------------------------\n",
      "Model Name: 30.28509_69.55708_model_04_06-12-2020--11.40.39_97.07_97.07.h5\n",
      "Model Accuracy = 97.06840390879479%\n",
      "------------------------------------------------------------------------\n",
      "Model Name: 480.81713_427.26302_model_01_06-12-2020--11.40.39_97.39_97.39.h5\n",
      "Model Accuracy = 97.39413680781759%\n",
      "------------------------------------------------------------------------\n",
      "Model Name: 1386.00711_model_02_29-11-2020--21.47.14_97.39.h5\n",
      "Model Accuracy = 97.39413680781759%\n",
      "------------------------------------------------------------------------\n",
      "Model Name: 707.97914_955.06863_model_07_06-12-2020--11.40.39_97.23_97.23.h5\n",
      "Model Accuracy = 97.23127035830619%\n",
      "------------------------------------------------------------------------\n",
      "Model Name: 29-11-2020--14.40.59_97.07.h5\n",
      "Model Accuracy = 97.06840390879479%\n",
      "------------------------------------------------------------------------\n",
      "Model Name: 744.81328_730.85414_model_02_06-12-2020--11.12.53_97.23_97.23.h5\n",
      "Model Accuracy = 97.23127035830619%\n",
      "------------------------------------------------------------------------\n",
      "Model Name: 661.71162_665.01141_model_01_06-12-2020--11.12.53_97.23_97.23.h5\n",
      "Model Accuracy = 97.23127035830619%\n",
      "------------------------------------------------------------------------\n",
      "Model Name: 406.8518_model_01_29-11-2020--15.51.08_97.56.h5\n",
      "Model Accuracy = 97.55700325732899%\n",
      "------------------------------------------------------------------------\n",
      "Model Name: 1066.30011_model_01_29-11-2020--16.08.01_97.23.h5\n",
      "Model Accuracy = 97.23127035830619%\n",
      "------------------------------------------------------------------------\n",
      "Model Name: 1147.32014_834.41082_model_03_06-12-2020--11.40.39_97.07_97.07.h5\n",
      "Model Accuracy = 97.06840390879479%\n",
      "------------------------------------------------------------------------\n",
      "Model Name: 29-11-2020--15.51.08_97.56.h5\n",
      "Model Accuracy = 97.55700325732899%\n",
      "------------------------------------------------------------------------\n",
      "Model Name: 157.89746_1111.42645_model_02_06-12-2020--11.26.48_97.23_97.23.h5\n",
      "Model Accuracy = 97.23127035830619%\n",
      "------------------------------------------------------------------------\n",
      "Model Name: 1108.00876_668.85422_model_04_06-12-2020--11.12.53_97.23_97.23.h5\n",
      "Model Accuracy = 97.23127035830619%\n",
      "------------------------------------------------------------------------\n",
      "Model Name: 396.02096_108.69463_model_05_06-12-2020--11.40.39_97.72_97.72.h5\n",
      "Model Accuracy = 97.71986970684038%\n",
      "------------------------------------------------------------------------\n",
      "Model Name: 230.39879_777.47332_model_04_06-12-2020--11.26.48_97.23_97.23.h5\n",
      "Model Accuracy = 97.23127035830619%\n",
      "------------------------------------------------------------------------\n",
      "Model Name: 28-11-2020--16.56.53_97.23.h5\n",
      "Model Accuracy = 97.23127035830619%\n",
      "------------------------------------------------------------------------\n",
      "Model Name: 1109.09618_06-12-2020--09.36.28_97.72.h5\n",
      "Model Accuracy = 97.71986970684038%\n",
      "------------------------------------------------------------------------\n",
      "Model Name: 696.00164_260.84189_model_02_06-12-2020--11.40.39_97.07_97.07.h5\n",
      "Model Accuracy = 97.06840390879479%\n",
      "------------------------------------------------------------------------\n",
      "Model Name: 419.23738_model_02_29-11-2020--16.00.15_97.07.h5\n",
      "Model Accuracy = 97.06840390879479%\n",
      "------------------------------------------------------------------------\n",
      "\n",
      "The highest Accuracy: ['396.02096_108.69463_model_05_06-12-2020--11.40.39_97.72_97.72.h5'\n",
      " '1109.09618_06-12-2020--09.36.28_97.72.h5'] with 97.71986970684038%\n",
      "\n",
      "------------------------------------------------------------------------\n",
      "Model: 396.02096_108.69463_model_05_06-12-2020--11.40.39_97.72_97.72.h5\n",
      "\n",
      "Confusion Matrix:\n",
      "\n",
      "[[278  11]\n",
      " [  3 322]]\n",
      "\n",
      "Classification Report:\n",
      "\n",
      "              precision    recall  f1-score   support\n",
      "\n",
      "     pothole       0.99      0.96      0.98       289\n",
      "  no_pothole       0.97      0.99      0.98       325\n",
      "\n",
      "    accuracy                           0.98       614\n",
      "   macro avg       0.98      0.98      0.98       614\n",
      "weighted avg       0.98      0.98      0.98       614\n",
      "\n",
      "------------------------------------------------------------------------\n",
      "------------------------------------------------------------------------\n",
      "Model: 1109.09618_06-12-2020--09.36.28_97.72.h5\n",
      "\n",
      "Confusion Matrix:\n",
      "\n",
      "[[278  11]\n",
      " [  3 322]]\n",
      "\n",
      "Classification Report:\n",
      "\n",
      "              precision    recall  f1-score   support\n",
      "\n",
      "     pothole       0.99      0.96      0.98       289\n",
      "  no_pothole       0.97      0.99      0.98       325\n",
      "\n",
      "    accuracy                           0.98       614\n",
      "   macro avg       0.98      0.98      0.98       614\n",
      "weighted avg       0.98      0.98      0.98       614\n",
      "\n",
      "------------------------------------------------------------------------\n"
     ]
    }
   ],
   "source": [
    "check_highest('good_models/')"
   ]
  },
  {
   "cell_type": "code",
   "execution_count": 9,
   "metadata": {},
   "outputs": [],
   "source": [
    "model = load_model('good_models/' + '28-11-2020--10.28.03_97.23.h5', custom_objects = {\"Activation\": Activation})"
   ]
  },
  {
   "cell_type": "code",
   "execution_count": null,
   "metadata": {},
   "outputs": [],
   "source": [
    "tf.keras.utils.plot_model(\n",
    "    model,\n",
    "    to_file=\"model.png\",\n",
    "    show_shapes=True,\n",
    "    show_layer_names=True,\n",
    "    expand_nested=True,\n",
    "    dpi=96,\n",
    ")"
   ]
  },
  {
   "cell_type": "code",
   "execution_count": null,
   "metadata": {
    "hideInput": false,
    "hideOutput": true
   },
   "outputs": [],
   "source": [
    "from tqdm.contrib.telegram import tqdm as tg\n",
    "while True:\n",
    "    for a in range(10):\n",
    "        for k in tg(range(2), token='', chat_id='1220107026'):\n",
    "            time.sleep(0.5)\n",
    "    time.sleep(150)"
   ]
  },
  {
   "cell_type": "code",
   "execution_count": null,
   "metadata": {},
   "outputs": [],
   "source": [
    "import requests\n",
    "import json\n",
    "\n",
    "def message_discord(message):\n",
    "    channelID = \"777064829063135234\" # enable dev mode on discord, right-click on the channel, copy ID\n",
    "    botToken = \"Nzc3MDYzODcyMjgzNTQxNTE0.X69_IA.TtsQh9eVhxFfeakGkQLqn9UDAxw\"    # get from the bot page. must be a bot, not a discord app\n",
    "\n",
    "    baseURL = \"https://discordapp.com/api/channels/{}/messages\".format(channelID)\n",
    "    headers = { \"Authorization\":\"Bot {}\".format(botToken),\n",
    "                \"User-Agent\":\"myBotThing (http://some.url, v0.1)\",\n",
    "                \"Content-Type\":\"application/json\", }\n",
    "\n",
    "    POSTedJSON =  json.dumps ( {\"content\":message} )\n",
    "\n",
    "    r = requests.post(baseURL, headers = headers, data = POSTedJSON)"
   ]
  },
  {
   "cell_type": "code",
   "execution_count": null,
   "metadata": {},
   "outputs": [],
   "source": [
    "import time\n",
    "from IPython.display import clear_output\n",
    "while True:\n",
    "    !echo MGeureka123 | sudo -S purge\n",
    "    print('purged')\n",
    "    clear_output()\n",
    "    time.sleep(150)"
   ]
  },
  {
   "cell_type": "code",
   "execution_count": null,
   "metadata": {},
   "outputs": [],
   "source": [
    "input_layer_neurons = list(np.arange(27, 31))\n",
    "first_layer_neurons = list(np.arange(21, 25))\n",
    "second_layer_neurons = list(np.arange(21, 25))\n",
    "\n",
    "res = [[i, j, k]\n",
    "       for i in input_layer_neurons  \n",
    "       for j in first_layer_neurons\n",
    "       for k in second_layer_neurons\n",
    "      ]"
   ]
  },
  {
   "cell_type": "code",
   "execution_count": null,
   "metadata": {},
   "outputs": [],
   "source": [
    "len(res)"
   ]
  },
  {
   "cell_type": "code",
   "execution_count": null,
   "metadata": {},
   "outputs": [],
   "source": [
    "%%time \n",
    "a = list(np.arange(1e-4, 1e-3, 1e-4*2))\n",
    "a"
   ]
  },
  {
   "cell_type": "code",
   "execution_count": 4,
   "metadata": {},
   "outputs": [
    {
     "ename": "KeyboardInterrupt",
     "evalue": "",
     "output_type": "error",
     "traceback": [
      "\u001b[0;31m---------------------------------------------------------------------------\u001b[0m",
      "\u001b[0;31mKeyboardInterrupt\u001b[0m                         Traceback (most recent call last)",
      "\u001b[0;32m<ipython-input-4-0521015fc6d4>\u001b[0m in \u001b[0;36m<module>\u001b[0;34m\u001b[0m\n\u001b[1;32m      3\u001b[0m \u001b[0;32mwhile\u001b[0m \u001b[0;32mTrue\u001b[0m\u001b[0;34m:\u001b[0m\u001b[0;34m\u001b[0m\u001b[0;34m\u001b[0m\u001b[0m\n\u001b[1;32m      4\u001b[0m     \u001b[0mos\u001b[0m\u001b[0;34m.\u001b[0m\u001b[0msystem\u001b[0m\u001b[0;34m(\u001b[0m\u001b[0;34m'echo MGeureka123 | sudo -S purge'\u001b[0m\u001b[0;34m)\u001b[0m\u001b[0;34m\u001b[0m\u001b[0;34m\u001b[0m\u001b[0m\n\u001b[0;32m----> 5\u001b[0;31m     \u001b[0msleep\u001b[0m\u001b[0;34m(\u001b[0m\u001b[0;36m50\u001b[0m\u001b[0;34m)\u001b[0m\u001b[0;34m\u001b[0m\u001b[0;34m\u001b[0m\u001b[0m\n\u001b[0m",
      "\u001b[0;31mKeyboardInterrupt\u001b[0m: "
     ]
    }
   ],
   "source": [
    "import os\n",
    "from time import sleep\n",
    "while True:\n",
    "    os.system('echo MGeureka123 | sudo -S purge')\n",
    "    sleep(50)"
   ]
  },
  {
   "cell_type": "code",
   "execution_count": null,
   "metadata": {},
   "outputs": [],
   "source": [
    "from decimal import *\n",
    "getcontext().prec = 2\n",
    "factor = 0.9\n",
    "factor_factor = 0.9\n",
    "for i in range(10):\n",
    "    if factor*(1 + factor_factor)**10 >= 1:\n",
    "        for i in range(10):\n",
    "            if factor*(1 + factor_factor)**10 >= 1:\n",
    "                factor_factor -= 0.1\n",
    "                print(i, factor_factor)\n",
    "            else:\n",
    "                string = str(factor_factor)\n",
    "                length = len(string)\n",
    "                print(length)\n",
    "                break"
   ]
  },
  {
   "cell_type": "code",
   "execution_count": 52,
   "metadata": {},
   "outputs": [],
   "source": [
    "def cnt_equal_one():\n",
    "    return 1\n",
    "def check_cnt_equal_one(cnt):\n",
    "    try:\n",
    "        if cnt == 1:\n",
    "            return True\n",
    "        else:\n",
    "            return\n",
    "    except:\n",
    "        return\n",
    "def cnt_plus_one(count):\n",
    "    count += 1\n",
    "    return count"
   ]
  },
  {
   "cell_type": "code",
   "execution_count": null,
   "metadata": {},
   "outputs": [],
   "source": [
    "cnt = None\n",
    "for o in range(10):\n",
    "    if check_cnt_equal_one(cnt):\n",
    "        cnt = cnt_equal_one()\n",
    "    cnt = cnt_plus_one(cnt)\n",
    "    print(cnt)"
   ]
  },
  {
   "cell_type": "code",
   "execution_count": 37,
   "metadata": {},
   "outputs": [],
   "source": [
    "cnt = None"
   ]
  },
  {
   "cell_type": "code",
   "execution_count": 2,
   "metadata": {},
   "outputs": [],
   "source": [
    "%load_ext tensorboard"
   ]
  },
  {
   "cell_type": "code",
   "execution_count": 3,
   "metadata": {},
   "outputs": [
    {
     "data": {
      "text/html": [
       "\n",
       "      <iframe id=\"tensorboard-frame-3515f08c6061b424\" width=\"100%\" height=\"800\" frameborder=\"0\">\n",
       "      </iframe>\n",
       "      <script>\n",
       "        (function() {\n",
       "          const frame = document.getElementById(\"tensorboard-frame-3515f08c6061b424\");\n",
       "          const url = new URL(\"/\", window.location);\n",
       "          const port = 6006;\n",
       "          if (port) {\n",
       "            url.port = port;\n",
       "          }\n",
       "          frame.src = url;\n",
       "        })();\n",
       "      </script>\n",
       "    "
      ],
      "text/plain": [
       "<IPython.core.display.HTML object>"
      ]
     },
     "metadata": {},
     "output_type": "display_data"
    }
   ],
   "source": [
    "%tensorboard --logdir=logs"
   ]
  },
  {
   "cell_type": "code",
   "execution_count": null,
   "metadata": {},
   "outputs": [],
   "source": []
  }
 ],
 "metadata": {
  "colab": {
   "name": "pothole_detection_test.ipynb",
   "provenance": []
  },
  "kernelspec": {
   "display_name": "Python 3",
   "language": "python",
   "name": "python3"
  },
  "language_info": {
   "codemirror_mode": {
    "name": "ipython",
    "version": 3
   },
   "file_extension": ".py",
   "mimetype": "text/x-python",
   "name": "python",
   "nbconvert_exporter": "python",
   "pygments_lexer": "ipython3",
   "version": "3.8.8"
  }
 },
 "nbformat": 4,
 "nbformat_minor": 4
}
